{
 "cells": [
  {
   "cell_type": "markdown",
   "metadata": {},
   "source": [
    "## Prepare your tokens\n",
    "\n",
    "1. Create an spotify developers account https://developer.spotify.com/\n",
    "2. Create an genious developers account https://genius.com/api-clients\n",
    "\n",
    "3. install packages:\n",
    "    ```\n",
    "    pip install spotipy lyricsgenius\n",
    "    ```\n",
    "\n",
    "\n",
    "4. Create a file named SECRETS\n",
    "5. Write the following to SECRETS:\n",
    "\n",
    "```\n",
    "genius_token=[YOUR GENIUS AUTH TOKEN]\n",
    "spotify_client_id=[YOUR SPOTIFY CLIENT ID]\n",
    "spotify_client_secret=[YOUR SPOTIFY CLIENT SECRET]\n",
    "```\n",
    "\n",
    "you can find details in spotify dashboard."
   ]
  },
  {
   "cell_type": "code",
   "execution_count": 1,
   "metadata": {},
   "outputs": [],
   "source": [
    "from lyric_data import LyricDataCollector\n",
    "import pandas as pd\n",
    "\n",
    "\n",
    "%load_ext autoreload\n",
    "%autoreload 2"
   ]
  },
  {
   "cell_type": "markdown",
   "metadata": {},
   "source": [
    "## Get songs for depression\n",
    "\n",
    "go to https://www.chosic.com/spotify-playlist-search-tool-by-song-or-artist/ and search for playlist that are good for depression."
   ]
  },
  {
   "cell_type": "code",
   "execution_count": 2,
   "metadata": {},
   "outputs": [],
   "source": [
    "for_depression_playlist_url = [\n",
    "    'https://open.spotify.com/playlist/2iWPA6VDKDnWgD2XnBpqv9?si=6550a1cb58514357',\n",
    "    'https://open.spotify.com/playlist/37i9dQZF1DXci7j0DJQgGp', \n",
    "    \n",
    "]\n",
    "\n",
    "data_collector = LyricDataCollector.from_secret('SECRETS')\n",
    "data_collector.set_verbose(False)"
   ]
  },
  {
   "cell_type": "code",
   "execution_count": null,
   "metadata": {},
   "outputs": [],
   "source": [
    "for_depression_songs = []\n",
    "\n",
    "for url in for_depression_playlist_url:\n",
    "    df = data_collector.get_songs(recommendations=data_collector.sp.playlist(url))\n",
    "    for_depression_songs.append(df)\n",
    "\n",
    "for_depression_songs = pd.concat(for_depression_songs)"
   ]
  },
  {
   "cell_type": "markdown",
   "metadata": {},
   "source": [
    "## Get Random Songs"
   ]
  },
  {
   "cell_type": "code",
   "execution_count": null,
   "metadata": {},
   "outputs": [],
   "source": [
    "genres = data_collector.get_genre_seeds()\n",
    "rec = data_collector.get_recommendations(seed_genres=genres[:5], limit=50)\n",
    "songs_df = data_collector.get_songs(recommendations=rec)"
   ]
  },
  {
   "cell_type": "code",
   "execution_count": 5,
   "metadata": {},
   "outputs": [
    {
     "data": {
      "text/html": [
       "<div>\n",
       "<style scoped>\n",
       "    .dataframe tbody tr th:only-of-type {\n",
       "        vertical-align: middle;\n",
       "    }\n",
       "\n",
       "    .dataframe tbody tr th {\n",
       "        vertical-align: top;\n",
       "    }\n",
       "\n",
       "    .dataframe thead th {\n",
       "        text-align: right;\n",
       "    }\n",
       "</style>\n",
       "<table border=\"1\" class=\"dataframe\">\n",
       "  <thead>\n",
       "    <tr style=\"text-align: right;\">\n",
       "      <th></th>\n",
       "      <th>danceability</th>\n",
       "      <th>energy</th>\n",
       "      <th>key</th>\n",
       "      <th>loudness</th>\n",
       "      <th>mode</th>\n",
       "      <th>speechiness</th>\n",
       "      <th>acousticness</th>\n",
       "      <th>instrumentalness</th>\n",
       "      <th>liveness</th>\n",
       "      <th>valence</th>\n",
       "      <th>...</th>\n",
       "      <th>disc_number</th>\n",
       "      <th>explicit</th>\n",
       "      <th>href</th>\n",
       "      <th>is_local</th>\n",
       "      <th>is_playable</th>\n",
       "      <th>name</th>\n",
       "      <th>popularity</th>\n",
       "      <th>preview_url</th>\n",
       "      <th>track_number</th>\n",
       "      <th>lyrics</th>\n",
       "    </tr>\n",
       "  </thead>\n",
       "  <tbody>\n",
       "    <tr>\n",
       "      <th>0</th>\n",
       "      <td>0.52</td>\n",
       "      <td>0.808</td>\n",
       "      <td>11</td>\n",
       "      <td>-4.657</td>\n",
       "      <td>1</td>\n",
       "      <td>0.2970</td>\n",
       "      <td>0.371</td>\n",
       "      <td>0.000</td>\n",
       "      <td>0.131</td>\n",
       "      <td>0.804</td>\n",
       "      <td>...</td>\n",
       "      <td>1</td>\n",
       "      <td>True</td>\n",
       "      <td>https://api.spotify.com/v1/tracks/1VuktSAvV37e...</td>\n",
       "      <td>False</td>\n",
       "      <td>True</td>\n",
       "      <td>Olofofo (feat. Wizkid)</td>\n",
       "      <td>22</td>\n",
       "      <td>https://p.scdn.co/mp3-preview/3e20ff999324149e...</td>\n",
       "      <td>6</td>\n",
       "      <td>Olofofo LyricsOya o\\nSometimes I wonder what t...</td>\n",
       "    </tr>\n",
       "    <tr>\n",
       "      <th>0</th>\n",
       "      <td>0.50</td>\n",
       "      <td>0.582</td>\n",
       "      <td>7</td>\n",
       "      <td>-13.264</td>\n",
       "      <td>1</td>\n",
       "      <td>0.0386</td>\n",
       "      <td>0.115</td>\n",
       "      <td>0.729</td>\n",
       "      <td>0.102</td>\n",
       "      <td>0.382</td>\n",
       "      <td>...</td>\n",
       "      <td>3</td>\n",
       "      <td>True</td>\n",
       "      <td>https://api.spotify.com/v1/tracks/3yapxBpqO57E...</td>\n",
       "      <td>False</td>\n",
       "      <td>True</td>\n",
       "      <td>Put Some Sugar on It</td>\n",
       "      <td>23</td>\n",
       "      <td>https://p.scdn.co/mp3-preview/7026f7b0fa98753e...</td>\n",
       "      <td>14</td>\n",
       "      <td>Put Some Sugar on It LyricsLet's do it one mor...</td>\n",
       "    </tr>\n",
       "  </tbody>\n",
       "</table>\n",
       "<p>2 rows × 28 columns</p>\n",
       "</div>"
      ],
      "text/plain": [
       "   danceability  energy  key  loudness  mode  speechiness  acousticness  \\\n",
       "0          0.52   0.808   11    -4.657     1       0.2970         0.371   \n",
       "0          0.50   0.582    7   -13.264     1       0.0386         0.115   \n",
       "\n",
       "   instrumentalness  liveness  valence  ...  disc_number explicit  \\\n",
       "0             0.000     0.131    0.804  ...            1     True   \n",
       "0             0.729     0.102    0.382  ...            3     True   \n",
       "\n",
       "                                                href is_local is_playable  \\\n",
       "0  https://api.spotify.com/v1/tracks/1VuktSAvV37e...    False        True   \n",
       "0  https://api.spotify.com/v1/tracks/3yapxBpqO57E...    False        True   \n",
       "\n",
       "                     name  popularity  \\\n",
       "0  Olofofo (feat. Wizkid)          22   \n",
       "0    Put Some Sugar on It          23   \n",
       "\n",
       "                                         preview_url  track_number  \\\n",
       "0  https://p.scdn.co/mp3-preview/3e20ff999324149e...             6   \n",
       "0  https://p.scdn.co/mp3-preview/7026f7b0fa98753e...            14   \n",
       "\n",
       "                                              lyrics  \n",
       "0  Olofofo LyricsOya o\\nSometimes I wonder what t...  \n",
       "0  Put Some Sugar on It LyricsLet's do it one mor...  \n",
       "\n",
       "[2 rows x 28 columns]"
      ]
     },
     "execution_count": 5,
     "metadata": {},
     "output_type": "execute_result"
    }
   ],
   "source": [
    "songs_df[songs_df['explicit'] == True]"
   ]
  },
  {
   "cell_type": "markdown",
   "metadata": {},
   "source": [
    "## Label Songs"
   ]
  },
  {
   "cell_type": "markdown",
   "metadata": {},
   "source": [
    "We will add a column called 'label' into the dataframes, and it will have the following:\n",
    "\n",
    "* `for depression`\n",
    "* `cheerful`\n",
    "* `relaxing`\n",
    "* `offensive`\n",
    "* `sad`\n",
    "* `neutral`\n",
    "* ..."
   ]
  },
  {
   "cell_type": "code",
   "execution_count": null,
   "metadata": {},
   "outputs": [],
   "source": [
    "# example 1\n",
    "for_depression_songs['label'] = 'for_depression'"
   ]
  },
  {
   "cell_type": "code",
   "execution_count": null,
   "metadata": {},
   "outputs": [],
   "source": [
    "for_depression_songs"
   ]
  },
  {
   "cell_type": "markdown",
   "metadata": {},
   "source": [
    "## Exercise 1: Find songs that are cheerful"
   ]
  },
  {
   "cell_type": "code",
   "execution_count": 16,
   "metadata": {},
   "outputs": [],
   "source": [
    "for_cheerful_playlist_url = [\n",
    "    'https://open.spotify.com/playlist/37i9dQZF1DXeby79pVadGa', \n",
    "    'https://open.spotify.com/playlist/37i9dQZF1DXdPec7aLTmlC', \n",
    "    'https://open.spotify.com/playlist/37i9dQZF1DWVlYsZJXqdym', \n",
    "    'https://open.spotify.com/playlist/37i9dQZF1DX1H4LbvY4OJi',\n",
    "]"
   ]
  },
  {
   "cell_type": "code",
   "execution_count": null,
   "metadata": {},
   "outputs": [],
   "source": [
    "for_cheerful_songs = []\n",
    "\n",
    "for url in for_cheerful_playlist_url:\n",
    "    df = data_collector.get_songs(recommendations=data_collector.sp.playlist(url))\n",
    "    for_cheerful_songs.append(df)\n",
    "\n",
    "for_cheerful_songs = pd.concat(for_cheerful_songs)"
   ]
  },
  {
   "cell_type": "code",
   "execution_count": null,
   "metadata": {},
   "outputs": [],
   "source": [
    "for_cheerful_songs['label'] = 'cheerful'"
   ]
  },
  {
   "cell_type": "markdown",
   "metadata": {},
   "source": [
    "## Exercise 2: Find songs that might be offensive\n",
    "\n",
    "One easy way would be looking for songs that contain overtly sexual words or swear words.\n",
    "\n",
    "hint: the songs_df have a column called `explicit`\n",
    "\n",
    "\n",
    "find them and label them with `offensive`\n"
   ]
  },
  {
   "cell_type": "code",
   "execution_count": 7,
   "metadata": {},
   "outputs": [
    {
     "data": {
      "text/html": [
       "<div>\n",
       "<style scoped>\n",
       "    .dataframe tbody tr th:only-of-type {\n",
       "        vertical-align: middle;\n",
       "    }\n",
       "\n",
       "    .dataframe tbody tr th {\n",
       "        vertical-align: top;\n",
       "    }\n",
       "\n",
       "    .dataframe thead th {\n",
       "        text-align: right;\n",
       "    }\n",
       "</style>\n",
       "<table border=\"1\" class=\"dataframe\">\n",
       "  <thead>\n",
       "    <tr style=\"text-align: right;\">\n",
       "      <th></th>\n",
       "      <th>danceability</th>\n",
       "      <th>energy</th>\n",
       "      <th>key</th>\n",
       "      <th>loudness</th>\n",
       "      <th>mode</th>\n",
       "      <th>speechiness</th>\n",
       "      <th>acousticness</th>\n",
       "      <th>instrumentalness</th>\n",
       "      <th>liveness</th>\n",
       "      <th>valence</th>\n",
       "      <th>...</th>\n",
       "      <th>disc_number</th>\n",
       "      <th>explicit</th>\n",
       "      <th>href</th>\n",
       "      <th>is_local</th>\n",
       "      <th>is_playable</th>\n",
       "      <th>name</th>\n",
       "      <th>popularity</th>\n",
       "      <th>preview_url</th>\n",
       "      <th>track_number</th>\n",
       "      <th>lyrics</th>\n",
       "    </tr>\n",
       "  </thead>\n",
       "  <tbody>\n",
       "    <tr>\n",
       "      <th>0</th>\n",
       "      <td>0.52</td>\n",
       "      <td>0.808</td>\n",
       "      <td>11</td>\n",
       "      <td>-4.657</td>\n",
       "      <td>1</td>\n",
       "      <td>0.2970</td>\n",
       "      <td>0.371</td>\n",
       "      <td>0.000</td>\n",
       "      <td>0.131</td>\n",
       "      <td>0.804</td>\n",
       "      <td>...</td>\n",
       "      <td>1</td>\n",
       "      <td>True</td>\n",
       "      <td>https://api.spotify.com/v1/tracks/1VuktSAvV37e...</td>\n",
       "      <td>False</td>\n",
       "      <td>True</td>\n",
       "      <td>Olofofo (feat. Wizkid)</td>\n",
       "      <td>22</td>\n",
       "      <td>https://p.scdn.co/mp3-preview/3e20ff999324149e...</td>\n",
       "      <td>6</td>\n",
       "      <td>Olofofo LyricsOya o\\nSometimes I wonder what t...</td>\n",
       "    </tr>\n",
       "    <tr>\n",
       "      <th>0</th>\n",
       "      <td>0.50</td>\n",
       "      <td>0.582</td>\n",
       "      <td>7</td>\n",
       "      <td>-13.264</td>\n",
       "      <td>1</td>\n",
       "      <td>0.0386</td>\n",
       "      <td>0.115</td>\n",
       "      <td>0.729</td>\n",
       "      <td>0.102</td>\n",
       "      <td>0.382</td>\n",
       "      <td>...</td>\n",
       "      <td>3</td>\n",
       "      <td>True</td>\n",
       "      <td>https://api.spotify.com/v1/tracks/3yapxBpqO57E...</td>\n",
       "      <td>False</td>\n",
       "      <td>True</td>\n",
       "      <td>Put Some Sugar on It</td>\n",
       "      <td>23</td>\n",
       "      <td>https://p.scdn.co/mp3-preview/7026f7b0fa98753e...</td>\n",
       "      <td>14</td>\n",
       "      <td>Put Some Sugar on It LyricsLet's do it one mor...</td>\n",
       "    </tr>\n",
       "  </tbody>\n",
       "</table>\n",
       "<p>2 rows × 28 columns</p>\n",
       "</div>"
      ],
      "text/plain": [
       "   danceability  energy  key  loudness  mode  speechiness  acousticness  \\\n",
       "0          0.52   0.808   11    -4.657     1       0.2970         0.371   \n",
       "0          0.50   0.582    7   -13.264     1       0.0386         0.115   \n",
       "\n",
       "   instrumentalness  liveness  valence  ...  disc_number explicit  \\\n",
       "0             0.000     0.131    0.804  ...            1     True   \n",
       "0             0.729     0.102    0.382  ...            3     True   \n",
       "\n",
       "                                                href is_local is_playable  \\\n",
       "0  https://api.spotify.com/v1/tracks/1VuktSAvV37e...    False        True   \n",
       "0  https://api.spotify.com/v1/tracks/3yapxBpqO57E...    False        True   \n",
       "\n",
       "                     name  popularity  \\\n",
       "0  Olofofo (feat. Wizkid)          22   \n",
       "0    Put Some Sugar on It          23   \n",
       "\n",
       "                                         preview_url  track_number  \\\n",
       "0  https://p.scdn.co/mp3-preview/3e20ff999324149e...             6   \n",
       "0  https://p.scdn.co/mp3-preview/7026f7b0fa98753e...            14   \n",
       "\n",
       "                                              lyrics  \n",
       "0  Olofofo LyricsOya o\\nSometimes I wonder what t...  \n",
       "0  Put Some Sugar on It LyricsLet's do it one mor...  \n",
       "\n",
       "[2 rows x 28 columns]"
      ]
     },
     "execution_count": 7,
     "metadata": {},
     "output_type": "execute_result"
    }
   ],
   "source": [
    "for_offensive_songs = songs_df[songs_df['explicit'] == True]\n",
    "for_offensive_songs"
   ]
  },
  {
   "cell_type": "code",
   "execution_count": null,
   "metadata": {},
   "outputs": [],
   "source": [
    "for_offensive_songs['label'] = 'offensive'"
   ]
  },
  {
   "cell_type": "markdown",
   "metadata": {},
   "source": [
    "## HW 1: Find songs that are Sad"
   ]
  },
  {
   "cell_type": "code",
   "execution_count": null,
   "metadata": {},
   "outputs": [],
   "source": [
    "for_sad_playlist_url = [\n",
    "    'https://open.spotify.com/playlist/37i9dQZF1DX7qK8ma5wgG1',\n",
    "    'https://open.spotify.com/playlist/37i9dQZF1DXbrUpGvoi3TS',\n",
    "    'https://open.spotify.com/playlist/7ABD15iASBIpPP5uJ5awvq',\n",
    "]\n",
    "\n",
    "for_sad_songs = []\n",
    "\n",
    "for url in for_sad_playlist_url:\n",
    "    df = data_collector.get_songs(recommendations=data_collector.sp.playlist(url))\n",
    "    for_sad_songs.append(df)\n",
    "\n",
    "for_sad_songs = pd.concat(for_sad_songs)\n",
    "for_sad_songs['label'] = 'sad'"
   ]
  },
  {
   "cell_type": "markdown",
   "metadata": {},
   "source": [
    "## HW2: Find songs that are relaxing"
   ]
  },
  {
   "cell_type": "code",
   "execution_count": null,
   "metadata": {},
   "outputs": [],
   "source": [
    "for_relax_playlist_url = [\n",
    "    'https://open.spotify.com/playlist/37i9dQZF1DX3SQwW1JbaFt',\n",
    "    'https://open.spotify.com/playlist/0vvXsWCC9xrXsKd4FyS8kM',\n",
    "    'https://open.spotify.com/playlist/37i9dQZF1DX2TRYkJECvfC',\n",
    "]\n",
    "\n",
    "for_relax_songs = []\n",
    "\n",
    "for url in for_relax_playlist_url:\n",
    "    df = data_collector.get_songs(recommendations=data_collector.sp.playlist(url))\n",
    "    for_relax_songs.append(df)\n",
    "\n",
    "for_relax_songs = pd.concat(for_relax_songs)\n",
    "for_relax_songs['label'] = 'relax'"
   ]
  },
  {
   "cell_type": "markdown",
   "metadata": {},
   "source": [
    "## HW3: Find songs that are neutral\n",
    "\n",
    "what songs are neutral? this depends on your definition."
   ]
  },
  {
   "cell_type": "code",
   "execution_count": 15,
   "metadata": {},
   "outputs": [
    {
     "data": {
      "text/html": [
       "<div>\n",
       "<style scoped>\n",
       "    .dataframe tbody tr th:only-of-type {\n",
       "        vertical-align: middle;\n",
       "    }\n",
       "\n",
       "    .dataframe tbody tr th {\n",
       "        vertical-align: top;\n",
       "    }\n",
       "\n",
       "    .dataframe thead th {\n",
       "        text-align: right;\n",
       "    }\n",
       "</style>\n",
       "<table border=\"1\" class=\"dataframe\">\n",
       "  <thead>\n",
       "    <tr style=\"text-align: right;\">\n",
       "      <th></th>\n",
       "      <th>danceability</th>\n",
       "      <th>energy</th>\n",
       "      <th>key</th>\n",
       "      <th>loudness</th>\n",
       "      <th>mode</th>\n",
       "      <th>speechiness</th>\n",
       "      <th>acousticness</th>\n",
       "      <th>instrumentalness</th>\n",
       "      <th>liveness</th>\n",
       "      <th>valence</th>\n",
       "      <th>...</th>\n",
       "      <th>disc_number</th>\n",
       "      <th>explicit</th>\n",
       "      <th>href</th>\n",
       "      <th>is_local</th>\n",
       "      <th>is_playable</th>\n",
       "      <th>name</th>\n",
       "      <th>popularity</th>\n",
       "      <th>preview_url</th>\n",
       "      <th>track_number</th>\n",
       "      <th>lyrics</th>\n",
       "    </tr>\n",
       "  </thead>\n",
       "  <tbody>\n",
       "    <tr>\n",
       "      <th>0</th>\n",
       "      <td>0.325</td>\n",
       "      <td>0.424</td>\n",
       "      <td>7</td>\n",
       "      <td>-12.733</td>\n",
       "      <td>1</td>\n",
       "      <td>0.0438</td>\n",
       "      <td>0.341</td>\n",
       "      <td>0.000267</td>\n",
       "      <td>0.2300</td>\n",
       "      <td>0.494</td>\n",
       "      <td>...</td>\n",
       "      <td>1</td>\n",
       "      <td>False</td>\n",
       "      <td>https://api.spotify.com/v1/tracks/5aGkIyzLVYGu...</td>\n",
       "      <td>False</td>\n",
       "      <td>True</td>\n",
       "      <td>Trouble</td>\n",
       "      <td>59</td>\n",
       "      <td>https://p.scdn.co/mp3-preview/b3f9fefb292a50c3...</td>\n",
       "      <td>1</td>\n",
       "      <td>Trouble Lyrics\\nTrouble\\nTrouble, trouble, tro...</td>\n",
       "    </tr>\n",
       "    <tr>\n",
       "      <th>0</th>\n",
       "      <td>0.651</td>\n",
       "      <td>0.495</td>\n",
       "      <td>9</td>\n",
       "      <td>-10.799</td>\n",
       "      <td>0</td>\n",
       "      <td>0.0297</td>\n",
       "      <td>0.586</td>\n",
       "      <td>0.017000</td>\n",
       "      <td>0.0877</td>\n",
       "      <td>0.471</td>\n",
       "      <td>...</td>\n",
       "      <td>1</td>\n",
       "      <td>False</td>\n",
       "      <td>https://api.spotify.com/v1/tracks/0inaXGMIwf7U...</td>\n",
       "      <td>False</td>\n",
       "      <td>True</td>\n",
       "      <td>N’Teri</td>\n",
       "      <td>24</td>\n",
       "      <td>https://p.scdn.co/mp3-preview/8761e938ae70c2d7...</td>\n",
       "      <td>8</td>\n",
       "      <td>ADUH ft ARDETTO LyricsYeah\\nHaha\\nAye! Yuh!\\nA...</td>\n",
       "    </tr>\n",
       "  </tbody>\n",
       "</table>\n",
       "<p>2 rows × 28 columns</p>\n",
       "</div>"
      ],
      "text/plain": [
       "   danceability  energy  key  loudness  mode  speechiness  acousticness  \\\n",
       "0         0.325   0.424    7   -12.733     1       0.0438         0.341   \n",
       "0         0.651   0.495    9   -10.799     0       0.0297         0.586   \n",
       "\n",
       "   instrumentalness  liveness  valence  ...  disc_number explicit  \\\n",
       "0          0.000267    0.2300    0.494  ...            1    False   \n",
       "0          0.017000    0.0877    0.471  ...            1    False   \n",
       "\n",
       "                                                href is_local is_playable  \\\n",
       "0  https://api.spotify.com/v1/tracks/5aGkIyzLVYGu...    False        True   \n",
       "0  https://api.spotify.com/v1/tracks/0inaXGMIwf7U...    False        True   \n",
       "\n",
       "      name  popularity                                        preview_url  \\\n",
       "0  Trouble          59  https://p.scdn.co/mp3-preview/b3f9fefb292a50c3...   \n",
       "0   N’Teri          24  https://p.scdn.co/mp3-preview/8761e938ae70c2d7...   \n",
       "\n",
       "   track_number                                             lyrics  \n",
       "0             1  Trouble Lyrics\\nTrouble\\nTrouble, trouble, tro...  \n",
       "0             8  ADUH ft ARDETTO LyricsYeah\\nHaha\\nAye! Yuh!\\nA...  \n",
       "\n",
       "[2 rows x 28 columns]"
      ]
     },
     "execution_count": 15,
     "metadata": {},
     "output_type": "execute_result"
    }
   ],
   "source": [
    "for_neutral_songs = songs_df[((0.4 <= songs_df['valence']) & (songs_df['valence']<= 0.6)) & ((0.4 <= songs_df['energy']) & (songs_df['energy']<= 0.6))]\n",
    "for_neutral_songs['label'] = 'neutral'"
   ]
  },
  {
   "cell_type": "markdown",
   "metadata": {},
   "source": [
    "## HW4: put all these df together\n",
    "\n",
    "* use `pd.concat` to put the dataframes together.\n",
    "* remove duplicates: look at `pd.DataFrame.drop_duplicates` at https://pandas.pydata.org/docs/reference/api/pandas.DataFrame.drop_duplicates.html"
   ]
  },
  {
   "cell_type": "code",
   "execution_count": null,
   "metadata": {},
   "outputs": [],
   "source": [
    "all_songs_df = pd.concat([for_depression_songs, for_cheerful_songs, for_neutral_songs, for_offensive_songs, for_sad_songs, for_relax_songs])"
   ]
  },
  {
   "cell_type": "code",
   "execution_count": null,
   "metadata": {},
   "outputs": [],
   "source": [
    "all_songs_df.drop_duplicates(inplace=True)"
   ]
  },
  {
   "cell_type": "code",
   "execution_count": 17,
   "metadata": {},
   "outputs": [
    {
     "data": {
      "text/plain": [
       "<function pandas.core.reshape.concat.concat(objs: 'Iterable[NDFrame] | Mapping[Hashable, NDFrame]', axis=0, join='outer', ignore_index: 'bool' = False, keys=None, levels=None, names=None, verify_integrity: 'bool' = False, sort: 'bool' = False, copy: 'bool' = True) -> 'FrameOrSeriesUnion'>"
      ]
     },
     "execution_count": 17,
     "metadata": {},
     "output_type": "execute_result"
    }
   ],
   "source": [
    "pd.all_songs_df.to_csv('all_songs.csv')"
   ]
  }
 ],
 "metadata": {
  "interpreter": {
   "hash": "c568ac569f6d70a7ab2f3e25f658ea7269191e07eecc680a830d75858756bbad"
  },
  "kernelspec": {
   "display_name": "Python 3.9.7 64-bit ('dev': conda)",
   "name": "python3"
  },
  "language_info": {
   "codemirror_mode": {
    "name": "ipython",
    "version": 3
   },
   "file_extension": ".py",
   "mimetype": "text/x-python",
   "name": "python",
   "nbconvert_exporter": "python",
   "pygments_lexer": "ipython3",
   "version": "3.7.12"
  },
  "orig_nbformat": 4
 },
 "nbformat": 4,
 "nbformat_minor": 2
}
