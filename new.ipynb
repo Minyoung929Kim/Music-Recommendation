{
 "cells": [
  {
   "cell_type": "code",
   "execution_count": 1,
   "metadata": {},
   "outputs": [],
   "source": [
    "import numpy as np"
   ]
  },
  {
   "cell_type": "code",
   "execution_count": 4,
   "metadata": {},
   "outputs": [],
   "source": [
    "survey_data = np.load('survey_data/survey_data.npy')"
   ]
  },
  {
   "cell_type": "code",
   "execution_count": 5,
   "metadata": {},
   "outputs": [
    {
     "data": {
      "text/plain": [
       "(102, 56)"
      ]
     },
     "execution_count": 5,
     "metadata": {},
     "output_type": "execute_result"
    }
   ],
   "source": [
    "survey_data.shape"
   ]
  },
  {
   "cell_type": "code",
   "execution_count": 7,
   "metadata": {},
   "outputs": [],
   "source": [
    "y = np.random.rand(102) > 0.5  # if the number is > 0.5, then it is True. if the number is <= 0.5, then it is False."
   ]
  },
  {
   "cell_type": "code",
   "execution_count": 9,
   "metadata": {},
   "outputs": [],
   "source": [
    "np.save('survey_data/depression_label.npy', y)"
   ]
  },
  {
   "cell_type": "code",
   "execution_count": 10,
   "metadata": {},
   "outputs": [],
   "source": [
    "import pandas as pd"
   ]
  },
  {
   "cell_type": "code",
   "execution_count": 14,
   "metadata": {},
   "outputs": [],
   "source": [
    "df = pd.read_csv('all_songs.csv')"
   ]
  },
  {
   "cell_type": "code",
   "execution_count": 15,
   "metadata": {},
   "outputs": [],
   "source": [
    "df = df[['lyrics', 'label']]"
   ]
  },
  {
   "cell_type": "code",
   "execution_count": 16,
   "metadata": {},
   "outputs": [],
   "source": [
    "depressed_people = []\n",
    "normal_people = []\n",
    "for i in range(102):\n",
    "    if y[i] == True:\n",
    "        # this person is depressed\n",
    "        depressed_people.append(i)\n",
    "    else:\n",
    "        normal_people.append(i)\n",
    "    "
   ]
  },
  {
   "cell_type": "code",
   "execution_count": 17,
   "metadata": {},
   "outputs": [],
   "source": [
    "for_cheerful_songs = df[df['label'] == 'cheerful']\n",
    "offensive_songs = df[df['label'] == 'offensive']\n",
    "for_relax_depression_songs = df[(df['label'] == 'for_depression') | (df['label'] == 'relax')]\n",
    "for_neutral_songs = df[df['label'] == 'neutral']\n",
    "for_sad_songs = df[df['label'] == 'sad']"
   ]
  },
  {
   "cell_type": "markdown",
   "metadata": {},
   "source": [
    "* for all depressed people, try giving them cheerful songs\n",
    "* for all depressed people, try giving them offensive songs\n",
    "* for all depressed people, try giving them sad songs\n",
    "* for all depressed people, try giving them neutral songs\n",
    "* for all depressed people, try giving them relax /  sofor_depressionngs\n",
    "\n",
    "* for all normal people, try giving them cheerful songs\n",
    "* for all normal people, try giving them offensive songs\n",
    "* for all normal people, try giving them sad songs\n",
    "* for all normal people, try giving them neutral songs\n",
    "* for all normal people, try giving them relax / for_depression songs\n"
   ]
  },
  {
   "cell_type": "code",
   "execution_count": 22,
   "metadata": {},
   "outputs": [],
   "source": [
    "data = []\n",
    "label = []\n",
    "\n",
    "for person in depressed_people:\n",
    "    for song in for_cheerful_songs['lyrics']:\n",
    "        data.append((survey_data[person], song))\n",
    "        label.append(1)\n",
    "\n",
    "for person in depressed_people:\n",
    "    for song in offensive_songs['lyrics']:\n",
    "        data.append((survey_data[person], song))\n",
    "        label.append(-1)\n",
    "\n",
    "# HW\n"
   ]
  },
  {
   "cell_type": "markdown",
   "metadata": {},
   "source": [
    "`data = [(array([0, 1, ....]), \"lyrics\"), (array([0, 1., ...]), \"lyrics\")]`\n",
    "\n"
   ]
  },
  {
   "cell_type": "markdown",
   "metadata": {},
   "source": [
    "## Train Test Split"
   ]
  },
  {
   "cell_type": "markdown",
   "metadata": {},
   "source": [
    "https://scikit-learn.org/stable/modules/generated/sklearn.model_selection.train_test_split.html"
   ]
  },
  {
   "cell_type": "code",
   "execution_count": null,
   "metadata": {},
   "outputs": [],
   "source": [
    "from sklearn.model_selection import train_test_split\n",
    "\n",
    "# HW: split data and label into training set and test set\n",
    "# using train_test_split"
   ]
  },
  {
   "cell_type": "code",
   "execution_count": null,
   "metadata": {},
   "outputs": [],
   "source": [
    "# train_data, test_data, train_label, test_label\n",
    "\n",
    "import pickle\n",
    "\n",
    "with open('train_data.pkl', 'wb') as f:\n",
    "    f.dump(train_data)\n",
    "\n",
    "\n",
    "with open('train_label.pkl', 'wb') as f:\n",
    "    f.dump(train_label)\n",
    "\n",
    "\n",
    "with open('test_data.pkl', 'wb') as f:\n",
    "    f.dump(test_data)\n",
    "\n",
    "\n",
    "with open('test_label.pkl', 'wb') as f:\n",
    "    f.dump(test_label)"
   ]
  }
 ],
 "metadata": {
  "interpreter": {
   "hash": "a9f1b1ba030845a5df2721083c94ad527972bf7403acc66881a1d33996209a40"
  },
  "kernelspec": {
   "display_name": "Python 3.7.12 ('synch')",
   "language": "python",
   "name": "python3"
  },
  "language_info": {
   "codemirror_mode": {
    "name": "ipython",
    "version": 3
   },
   "file_extension": ".py",
   "mimetype": "text/x-python",
   "name": "python",
   "nbconvert_exporter": "python",
   "pygments_lexer": "ipython3",
   "version": "3.7.12"
  },
  "orig_nbformat": 4
 },
 "nbformat": 4,
 "nbformat_minor": 2
}
