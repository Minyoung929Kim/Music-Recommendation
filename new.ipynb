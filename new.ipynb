{
 "cells": [
  {
   "cell_type": "code",
   "execution_count": 39,
   "source": [
    "import numpy as np"
   ],
   "outputs": [],
   "metadata": {}
  },
  {
   "cell_type": "code",
   "execution_count": 40,
   "source": [
    "survey_data = np.load('survey_data/survey_data.npy')"
   ],
   "outputs": [],
   "metadata": {}
  },
  {
   "cell_type": "code",
   "execution_count": 41,
   "source": [
    "survey_data.shape"
   ],
   "outputs": [
    {
     "output_type": "execute_result",
     "data": {
      "text/plain": [
       "(102, 56)"
      ]
     },
     "metadata": {},
     "execution_count": 41
    }
   ],
   "metadata": {}
  },
  {
   "cell_type": "code",
   "execution_count": 42,
   "source": [
    "y = np.random.rand(102) > 0.5  # if the number is > 0.5, then it is True. if the number is <= 0.5, then it is False."
   ],
   "outputs": [],
   "metadata": {}
  },
  {
   "cell_type": "code",
   "execution_count": 43,
   "source": [
    "np.save('survey_data/depression_label.npy', y)"
   ],
   "outputs": [],
   "metadata": {}
  },
  {
   "cell_type": "code",
   "execution_count": 44,
   "source": [
    "import pandas as pd"
   ],
   "outputs": [],
   "metadata": {}
  },
  {
   "cell_type": "code",
   "execution_count": 45,
   "source": [
    "df = pd.read_csv('all_songs.csv')"
   ],
   "outputs": [],
   "metadata": {}
  },
  {
   "cell_type": "code",
   "execution_count": 46,
   "source": [
    "df = df[['lyrics', 'label']]"
   ],
   "outputs": [],
   "metadata": {}
  },
  {
   "cell_type": "code",
   "execution_count": 47,
   "source": [
    "depressed_people = []\n",
    "normal_people = []\n",
    "for i in range(102):\n",
    "    if y[i] == True:\n",
    "        # this person is depressed\n",
    "        depressed_people.append(i)\n",
    "    else:\n",
    "        normal_people.append(i)\n",
    "    "
   ],
   "outputs": [],
   "metadata": {}
  },
  {
   "cell_type": "code",
   "execution_count": 48,
   "source": [
    "for_cheerful_songs = df[df['label'] == 'cheerful']\n",
    "offensive_songs = df[df['label'] == 'offensive']\n",
    "for_relax_depression_songs = df[(df['label'] == 'for_depression') | (df['label'] == 'relax')]\n",
    "for_neutral_songs = df[df['label'] == 'neutral']\n",
    "for_sad_songs = df[df['label'] == 'sad']"
   ],
   "outputs": [],
   "metadata": {}
  },
  {
   "cell_type": "markdown",
   "source": [
    "* for all depressed people, try giving them cheerful songs\n",
    "* for all depressed people, try giving them offensive songs\n",
    "* for all depressed people, try giving them sad songs\n",
    "* for all depressed people, try giving them neutral songs\n",
    "* for all depressed people, try giving them relax /  sofor_depressionngs\n",
    "\n",
    "* for all normal people, try giving them cheerful songs\n",
    "* for all normal people, try giving them offensive songs\n",
    "* for all normal people, try giving them sad songs\n",
    "* for all normal people, try giving them neutral songs\n",
    "* for all normal people, try giving them relax / for_depression songs\n"
   ],
   "metadata": {}
  },
  {
   "cell_type": "code",
   "execution_count": 49,
   "source": [
    "data = []\n",
    "label = []\n",
    "#for_cheerful_songs\n",
    "#offensive_songs\n",
    "#for_relax_depression_songs\n",
    "#for_neutral_songs\n",
    "#for_sad_songs\n",
    "for person in depressed_people:\n",
    "    for song in for_cheerful_songs['lyrics']:\n",
    "        data.append((survey_data[person], song))\n",
    "        label.append(1)\n",
    "\n",
    "for person in depressed_people:\n",
    "    for song in offensive_songs['lyrics']:\n",
    "        data.append((survey_data[person], song))\n",
    "        label.append(-1)\n",
    "\n",
    "for person in depressed_people:\n",
    "    for song in for_sad_songs['lyrics']:\n",
    "        data.append((survey_data[person], song))\n",
    "        label.append(-1)\n",
    "\n",
    "for person in depressed_people:\n",
    "    for song in for_relax_depression_songs['lyrics']:\n",
    "        data.append((survey_data[person], song))\n",
    "        label.append(0.6)\n",
    "\n",
    "for person in depressed_people:\n",
    "    for song in for_cheerful_songs['lyrics']:\n",
    "        data.append((survey_data[person], song))\n",
    "        label.append(1)\n",
    "\n",
    "for person in depressed_people:\n",
    "    for song in offensive_songs['lyrics']:\n",
    "        data.append((survey_data[person], song))\n",
    "        label.append(-1)\n",
    "\n",
    "for person in normal_people:\n",
    "    for song in for_sad_songs['lyrics']:\n",
    "        data.append((survey_data[person], song))\n",
    "        label.append(-1)\n",
    "\n",
    "for person in normal_people:\n",
    "    for song in for_relax_depression_songs['lyrics']:\n",
    "        data.append((survey_data[person], song))\n",
    "        label.append(0.6)\n",
    "# HW\n"
   ],
   "outputs": [],
   "metadata": {}
  },
  {
   "cell_type": "markdown",
   "source": [
    "`data = [(array([0, 1, ....]), \"lyrics\"), (array([0, 1., ...]), \"lyrics\")]`\n",
    "\n"
   ],
   "metadata": {}
  },
  {
   "cell_type": "markdown",
   "source": [
    "## Train Test Split"
   ],
   "metadata": {}
  },
  {
   "cell_type": "markdown",
   "source": [
    "https://scikit-learn.org/stable/modules/generated/sklearn.model_selection.train_test_split.html"
   ],
   "metadata": {}
  },
  {
   "cell_type": "code",
   "execution_count": 50,
   "source": [
    "pip install -U scikit-learn"
   ],
   "outputs": [
    {
     "output_type": "stream",
     "name": "stdout",
     "text": [
      "Requirement already satisfied: scikit-learn in /Users/student/opt/anaconda3/envs/dev/lib/python3.9/site-packages (1.0.2)\n",
      "Requirement already satisfied: joblib>=0.11 in /Users/student/opt/anaconda3/envs/dev/lib/python3.9/site-packages (from scikit-learn) (1.1.0)\n",
      "Requirement already satisfied: scipy>=1.1.0 in /Users/student/opt/anaconda3/envs/dev/lib/python3.9/site-packages (from scikit-learn) (1.8.0)\n",
      "Requirement already satisfied: threadpoolctl>=2.0.0 in /Users/student/opt/anaconda3/envs/dev/lib/python3.9/site-packages (from scikit-learn) (3.1.0)\n",
      "Requirement already satisfied: numpy>=1.14.6 in /Users/student/opt/anaconda3/envs/dev/lib/python3.9/site-packages (from scikit-learn) (1.21.2)\n",
      "Note: you may need to restart the kernel to use updated packages.\n"
     ]
    }
   ],
   "metadata": {}
  },
  {
   "cell_type": "code",
   "execution_count": 54,
   "source": [
    "\n",
    "from sklearn.model_selection import train_test_split\n",
    "#pseudo-random number (one random input --> generates a sequence of random numbers)\n",
    "#the integer placed in the random_state has no meaning\n",
    "#when the random_state is the same, the randomly generated sequenced numbers\n",
    "train_data, test_data, train_label, test_label = train_test_split(data, label, test_size=0.5, random_state=42, stratify = label)\n",
    "\n",
    "# HW: split data and label into training set and test set\n",
    "# using train_test_split"
   ],
   "outputs": [],
   "metadata": {}
  },
  {
   "cell_type": "code",
   "execution_count": 56,
   "source": [
    "# train_data, test_data, train_label, test_label\n",
    "\n",
    "import pickle\n",
    "\n",
    "with open('train_data.pkl', 'wb') as f:\n",
    "    pickle.dump(train_data,f)\n",
    "\n",
    "\n",
    "with open('train_label.pkl', 'wb') as f:\n",
    "    pickle.dump(train_label,f)\n",
    "\n",
    "\n",
    "with open('test_data.pkl', 'wb') as f:\n",
    "    pickle.dump(test_data,f)\n",
    "\n",
    "\n",
    "with open('test_label.pkl', 'wb') as f:\n",
    "    pickle.dump(test_label,f)"
   ],
   "outputs": [],
   "metadata": {}
  }
 ],
 "metadata": {
  "interpreter": {
   "hash": "c568ac569f6d70a7ab2f3e25f658ea7269191e07eecc680a830d75858756bbad"
  },
  "kernelspec": {
   "name": "python3",
   "display_name": "Python 3.9.7 64-bit ('dev': conda)"
  },
  "language_info": {
   "codemirror_mode": {
    "name": "ipython",
    "version": 3
   },
   "file_extension": ".py",
   "mimetype": "text/x-python",
   "name": "python",
   "nbconvert_exporter": "python",
   "pygments_lexer": "ipython3",
   "version": "3.9.7"
  },
  "orig_nbformat": 4
 },
 "nbformat": 4,
 "nbformat_minor": 2
}