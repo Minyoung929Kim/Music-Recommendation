{
 "cells": [
  {
   "cell_type": "code",
   "execution_count": 39,
   "metadata": {},
   "outputs": [],
   "source": [
    "import numpy as np"
   ]
  },
  {
   "cell_type": "code",
   "execution_count": 40,
   "metadata": {},
   "outputs": [],
   "source": [
    "survey_data = np.load('survey_data/survey_data.npy')"
   ]
  },
  {
   "cell_type": "code",
   "execution_count": 41,
   "metadata": {},
   "outputs": [
    {
     "data": {
      "text/plain": [
       "(102, 56)"
      ]
     },
     "execution_count": 41,
     "metadata": {},
     "output_type": "execute_result"
    }
   ],
   "source": [
    "survey_data.shape"
   ]
  },
  {
   "cell_type": "code",
   "execution_count": 43,
   "metadata": {},
   "outputs": [],
   "source": [
    "y = np.load('survey_data/depression_label.npy')"
   ]
  },
  {
   "cell_type": "code",
   "execution_count": 44,
   "metadata": {},
   "outputs": [],
   "source": [
    "import pandas as pd"
   ]
  },
  {
   "cell_type": "code",
   "execution_count": 45,
   "metadata": {},
   "outputs": [],
   "source": [
    "df = pd.read_csv('all_songs.csv')"
   ]
  },
  {
   "cell_type": "code",
   "execution_count": 46,
   "metadata": {},
   "outputs": [],
   "source": [
    "df = df[['lyrics', 'label']]"
   ]
  },
  {
   "cell_type": "code",
   "execution_count": 47,
   "metadata": {},
   "outputs": [],
   "source": [
    "depressed_people = []\n",
    "normal_people = []\n",
    "for i in range(102):\n",
    "    if y[i] == True:\n",
    "        # this person is depressed\n",
    "        depressed_people.append(i)\n",
    "    else:\n",
    "        normal_people.append(i)\n",
    "    "
   ]
  },
  {
   "cell_type": "code",
   "execution_count": 48,
   "metadata": {},
   "outputs": [],
   "source": [
    "for_cheerful_songs = df[df['label'] == 'cheerful']\n",
    "offensive_songs = df[df['label'] == 'offensive']\n",
    "for_relax_depression_songs = df[(df['label'] == 'for_depression') | (df['label'] == 'relax')]\n",
    "for_neutral_songs = df[df['label'] == 'neutral']\n",
    "for_sad_songs = df[df['label'] == 'sad']"
   ]
  },
  {
   "cell_type": "markdown",
   "metadata": {},
   "source": [
    "* for all depressed people, try giving them cheerful songs\n",
    "* for all depressed people, try giving them offensive songs\n",
    "* for all depressed people, try giving them sad songs\n",
    "* for all depressed people, try giving them neutral songs\n",
    "* for all depressed people, try giving them relax /  sofor_depressionngs\n",
    "\n",
    "* for all normal people, try giving them cheerful songs\n",
    "* for all normal people, try giving them offensive songs\n",
    "* for all normal people, try giving them sad songs\n",
    "* for all normal people, try giving them neutral songs\n",
    "* for all normal people, try giving them relax / for_depression songs\n"
   ]
  },
  {
   "cell_type": "code",
   "execution_count": 49,
   "metadata": {},
   "outputs": [],
   "source": [
    "data = []\n",
    "label = []\n",
    "#for_cheerful_songs\n",
    "#offensive_songs\n",
    "#for_relax_depression_songs\n",
    "#for_neutral_songs\n",
    "#for_sad_songs\n",
    "for person in depressed_people:\n",
    "    for song in for_cheerful_songs['lyrics']:\n",
    "        data.append((survey_data[person], song))\n",
    "        label.append(1)\n",
    "\n",
    "for person in depressed_people:\n",
    "    for song in offensive_songs['lyrics']:\n",
    "        data.append((survey_data[person], song))\n",
    "        label.append(-1)\n",
    "\n",
    "for person in depressed_people:\n",
    "    for song in for_sad_songs['lyrics']:\n",
    "        data.append((survey_data[person], song))\n",
    "        label.append(-1)\n",
    "\n",
    "for person in depressed_people:\n",
    "    for song in for_relax_depression_songs['lyrics']:\n",
    "        data.append((survey_data[person], song))\n",
    "        label.append(0.6)\n",
    "\n",
    "for person in depressed_people:\n",
    "    for song in for_cheerful_songs['lyrics']:\n",
    "        data.append((survey_data[person], song))\n",
    "        label.append(1)\n",
    "\n",
    "for person in depressed_people:\n",
    "    for song in offensive_songs['lyrics']:\n",
    "        data.append((survey_data[person], song))\n",
    "        label.append(-1)\n",
    "\n",
    "for person in normal_people:\n",
    "    for song in for_sad_songs['lyrics']:\n",
    "        data.append((survey_data[person], song))\n",
    "        label.append(-1)\n",
    "\n",
    "for person in normal_people:\n",
    "    for song in for_relax_depression_songs['lyrics']:\n",
    "        data.append((survey_data[person], song))\n",
    "        label.append(0.6)\n",
    "# HW\n"
   ]
  },
  {
   "cell_type": "markdown",
   "metadata": {},
   "source": [
    "`data = [(array([0, 1, ....]), \"lyrics\"), (array([0, 1., ...]), \"lyrics\")]`\n",
    "\n"
   ]
  },
  {
   "cell_type": "markdown",
   "metadata": {},
   "source": [
    "## Train Test Split"
   ]
  },
  {
   "cell_type": "markdown",
   "metadata": {},
   "source": [
    "https://scikit-learn.org/stable/modules/generated/sklearn.model_selection.train_test_split.html"
   ]
  },
  {
   "cell_type": "code",
   "execution_count": 54,
   "metadata": {},
   "outputs": [],
   "source": [
    "\n",
    "from sklearn.model_selection import train_test_split\n",
    "#pseudo-random number (one random input --> generates a sequence of random numbers)\n",
    "#the integer placed in the random_state has no meaning\n",
    "#when the random_state is the same, the randomly generated sequenced numbers\n",
    "train_data, test_data, train_label, test_label = train_test_split(data, label, test_size=0.5, random_state=42, stratify = label)\n",
    "\n",
    "# HW: split data and label into training set and test set\n",
    "# using train_test_split"
   ]
  },
  {
   "cell_type": "code",
   "execution_count": 56,
   "metadata": {},
   "outputs": [],
   "source": [
    "# train_data, test_data, train_label, test_label\n",
    "\n",
    "import pickle\n",
    "\n",
    "with open('train_data.pkl', 'wb') as f:\n",
    "    pickle.dump(train_data,f)\n",
    "\n",
    "\n",
    "with open('train_label.pkl', 'wb') as f:\n",
    "    pickle.dump(train_label,f)\n",
    "\n",
    "\n",
    "with open('test_data.pkl', 'wb') as f:\n",
    "    pickle.dump(test_data,f)\n",
    "\n",
    "\n",
    "with open('test_label.pkl', 'wb') as f:\n",
    "    pickle.dump(test_label,f)"
   ]
  }
 ],
 "metadata": {
  "interpreter": {
   "hash": "c568ac569f6d70a7ab2f3e25f658ea7269191e07eecc680a830d75858756bbad"
  },
  "kernelspec": {
   "display_name": "Python 3.9.7 64-bit ('dev': conda)",
   "name": "python3"
  },
  "language_info": {
   "codemirror_mode": {
    "name": "ipython",
    "version": 3
   },
   "file_extension": ".py",
   "mimetype": "text/x-python",
   "name": "python",
   "nbconvert_exporter": "python",
   "pygments_lexer": "ipython3",
   "version": "3.7.12"
  },
  "orig_nbformat": 4
 },
 "nbformat": 4,
 "nbformat_minor": 2
}
